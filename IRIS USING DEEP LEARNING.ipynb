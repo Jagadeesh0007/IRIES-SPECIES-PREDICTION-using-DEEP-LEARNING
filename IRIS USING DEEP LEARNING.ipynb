{
 "cells": [
  {
   "cell_type": "code",
   "execution_count": 86,
   "metadata": {},
   "outputs": [],
   "source": [
    "import pandas as pd\n",
    "import numpy as np\n",
    "import tensorflow as tf\n",
    "from keras.models import Sequential\n",
    "from keras.utils import np_utils\n",
    "from keras.layers import Dense,Activation,Dropout\n",
    "from keras.callbacks import ModelCheckpoint,EarlyStopping\n",
    "\n",
    "from sklearn.model_selection import train_test_split\n",
    "from sklearn.preprocessing import OneHotEncoder"
   ]
  },
  {
   "cell_type": "code",
   "execution_count": 87,
   "metadata": {},
   "outputs": [
    {
     "data": {
      "text/html": [
       "<div>\n",
       "<style scoped>\n",
       "    .dataframe tbody tr th:only-of-type {\n",
       "        vertical-align: middle;\n",
       "    }\n",
       "\n",
       "    .dataframe tbody tr th {\n",
       "        vertical-align: top;\n",
       "    }\n",
       "\n",
       "    .dataframe thead th {\n",
       "        text-align: right;\n",
       "    }\n",
       "</style>\n",
       "<table border=\"1\" class=\"dataframe\">\n",
       "  <thead>\n",
       "    <tr style=\"text-align: right;\">\n",
       "      <th></th>\n",
       "      <th>Id</th>\n",
       "      <th>SepalLengthCm</th>\n",
       "      <th>SepalWidthCm</th>\n",
       "      <th>PetalLengthCm</th>\n",
       "      <th>PetalWidthCm</th>\n",
       "      <th>Species</th>\n",
       "    </tr>\n",
       "  </thead>\n",
       "  <tbody>\n",
       "    <tr>\n",
       "      <th>0</th>\n",
       "      <td>1</td>\n",
       "      <td>5.1</td>\n",
       "      <td>3.5</td>\n",
       "      <td>1.4</td>\n",
       "      <td>0.2</td>\n",
       "      <td>Iris-setosa</td>\n",
       "    </tr>\n",
       "    <tr>\n",
       "      <th>1</th>\n",
       "      <td>2</td>\n",
       "      <td>4.9</td>\n",
       "      <td>3.0</td>\n",
       "      <td>1.4</td>\n",
       "      <td>0.2</td>\n",
       "      <td>Iris-setosa</td>\n",
       "    </tr>\n",
       "    <tr>\n",
       "      <th>2</th>\n",
       "      <td>3</td>\n",
       "      <td>4.7</td>\n",
       "      <td>3.2</td>\n",
       "      <td>1.3</td>\n",
       "      <td>0.2</td>\n",
       "      <td>Iris-setosa</td>\n",
       "    </tr>\n",
       "    <tr>\n",
       "      <th>3</th>\n",
       "      <td>4</td>\n",
       "      <td>4.6</td>\n",
       "      <td>3.1</td>\n",
       "      <td>1.5</td>\n",
       "      <td>0.2</td>\n",
       "      <td>Iris-setosa</td>\n",
       "    </tr>\n",
       "    <tr>\n",
       "      <th>4</th>\n",
       "      <td>5</td>\n",
       "      <td>5.0</td>\n",
       "      <td>3.6</td>\n",
       "      <td>1.4</td>\n",
       "      <td>0.2</td>\n",
       "      <td>Iris-setosa</td>\n",
       "    </tr>\n",
       "  </tbody>\n",
       "</table>\n",
       "</div>"
      ],
      "text/plain": [
       "   Id  SepalLengthCm  SepalWidthCm  PetalLengthCm  PetalWidthCm      Species\n",
       "0   1            5.1           3.5            1.4           0.2  Iris-setosa\n",
       "1   2            4.9           3.0            1.4           0.2  Iris-setosa\n",
       "2   3            4.7           3.2            1.3           0.2  Iris-setosa\n",
       "3   4            4.6           3.1            1.5           0.2  Iris-setosa\n",
       "4   5            5.0           3.6            1.4           0.2  Iris-setosa"
      ]
     },
     "execution_count": 87,
     "metadata": {},
     "output_type": "execute_result"
    }
   ],
   "source": [
    "df=pd.read_csv('Iris.csv')\n",
    "df.head(5)"
   ]
  },
  {
   "cell_type": "code",
   "execution_count": 88,
   "metadata": {},
   "outputs": [
    {
     "data": {
      "text/plain": [
       "Id               0\n",
       "SepalLengthCm    0\n",
       "SepalWidthCm     0\n",
       "PetalLengthCm    0\n",
       "PetalWidthCm     0\n",
       "Species          0\n",
       "dtype: int64"
      ]
     },
     "execution_count": 88,
     "metadata": {},
     "output_type": "execute_result"
    }
   ],
   "source": [
    "df.isnull().sum()"
   ]
  },
  {
   "cell_type": "code",
   "execution_count": 89,
   "metadata": {},
   "outputs": [
    {
     "data": {
      "text/plain": [
       "0    Iris-setosa\n",
       "Name: Species, dtype: object"
      ]
     },
     "execution_count": 89,
     "metadata": {},
     "output_type": "execute_result"
    }
   ],
   "source": [
    "x=df.drop(['Id','Species'],axis=1)\n",
    "x.head(2)\n",
    "y=df['Species']\n",
    "y.head(1)\n"
   ]
  },
  {
   "cell_type": "code",
   "execution_count": 90,
   "metadata": {},
   "outputs": [
    {
     "data": {
      "text/plain": [
       "Iris-versicolor    50\n",
       "Iris-setosa        50\n",
       "Iris-virginica     50\n",
       "Name: Species, dtype: int64"
      ]
     },
     "execution_count": 90,
     "metadata": {},
     "output_type": "execute_result"
    }
   ],
   "source": [
    "y.value_counts()"
   ]
  },
  {
   "cell_type": "code",
   "execution_count": 91,
   "metadata": {},
   "outputs": [
    {
     "data": {
      "text/plain": [
       "(150, 3)"
      ]
     },
     "execution_count": 91,
     "metadata": {},
     "output_type": "execute_result"
    }
   ],
   "source": [
    "one=OneHotEncoder()\n",
    "y=one.fit_transform(np.array(y).reshape(-1,1))\n",
    "y.shape\n"
   ]
  },
  {
   "cell_type": "code",
   "execution_count": 92,
   "metadata": {},
   "outputs": [
    {
     "data": {
      "text/html": [
       "<div>\n",
       "<style scoped>\n",
       "    .dataframe tbody tr th:only-of-type {\n",
       "        vertical-align: middle;\n",
       "    }\n",
       "\n",
       "    .dataframe tbody tr th {\n",
       "        vertical-align: top;\n",
       "    }\n",
       "\n",
       "    .dataframe thead th {\n",
       "        text-align: right;\n",
       "    }\n",
       "</style>\n",
       "<table border=\"1\" class=\"dataframe\">\n",
       "  <thead>\n",
       "    <tr style=\"text-align: right;\">\n",
       "      <th></th>\n",
       "      <th>SepalLengthCm</th>\n",
       "      <th>SepalWidthCm</th>\n",
       "      <th>PetalLengthCm</th>\n",
       "      <th>PetalWidthCm</th>\n",
       "    </tr>\n",
       "  </thead>\n",
       "  <tbody>\n",
       "    <tr>\n",
       "      <th>22</th>\n",
       "      <td>4.6</td>\n",
       "      <td>3.6</td>\n",
       "      <td>1.0</td>\n",
       "      <td>0.2</td>\n",
       "    </tr>\n",
       "    <tr>\n",
       "      <th>15</th>\n",
       "      <td>5.7</td>\n",
       "      <td>4.4</td>\n",
       "      <td>1.5</td>\n",
       "      <td>0.4</td>\n",
       "    </tr>\n",
       "  </tbody>\n",
       "</table>\n",
       "</div>"
      ],
      "text/plain": [
       "    SepalLengthCm  SepalWidthCm  PetalLengthCm  PetalWidthCm\n",
       "22            4.6           3.6            1.0           0.2\n",
       "15            5.7           4.4            1.5           0.4"
      ]
     },
     "execution_count": 92,
     "metadata": {},
     "output_type": "execute_result"
    }
   ],
   "source": [
    "x_train,x_test,y_train,y_test=train_test_split(x,y,test_size=0.2,random_state=42)\n",
    "x_train.head(2)"
   ]
  },
  {
   "cell_type": "code",
   "execution_count": 93,
   "metadata": {},
   "outputs": [
    {
     "data": {
      "text/plain": [
       "(120, 4)"
      ]
     },
     "execution_count": 93,
     "metadata": {},
     "output_type": "execute_result"
    }
   ],
   "source": [
    "x_train.shape\n"
   ]
  },
  {
   "cell_type": "code",
   "execution_count": 94,
   "metadata": {},
   "outputs": [
    {
     "data": {
      "text/plain": [
       "(120, 3)"
      ]
     },
     "execution_count": 94,
     "metadata": {},
     "output_type": "execute_result"
    }
   ],
   "source": [
    "y_train.shape"
   ]
  },
  {
   "cell_type": "code",
   "execution_count": 95,
   "metadata": {},
   "outputs": [
    {
     "data": {
      "text/plain": [
       "(30, 4)"
      ]
     },
     "execution_count": 95,
     "metadata": {},
     "output_type": "execute_result"
    }
   ],
   "source": [
    "x_test.shape"
   ]
  },
  {
   "cell_type": "code",
   "execution_count": 96,
   "metadata": {},
   "outputs": [
    {
     "data": {
      "text/plain": [
       "(30, 3)"
      ]
     },
     "execution_count": 96,
     "metadata": {},
     "output_type": "execute_result"
    }
   ],
   "source": [
    "y_test.shape"
   ]
  },
  {
   "cell_type": "code",
   "execution_count": 97,
   "metadata": {},
   "outputs": [
    {
     "data": {
      "text/plain": [
       "4"
      ]
     },
     "execution_count": 97,
     "metadata": {},
     "output_type": "execute_result"
    }
   ],
   "source": [
    "x_train.shape[1]\n"
   ]
  },
  {
   "cell_type": "code",
   "execution_count": 98,
   "metadata": {},
   "outputs": [
    {
     "name": "stdout",
     "output_type": "stream",
     "text": [
      "Model: \"sequential_4\"\n",
      "_________________________________________________________________\n",
      "Layer (type)                 Output Shape              Param #   \n",
      "=================================================================\n",
      "dense_10 (Dense)             (None, 128)               640       \n",
      "_________________________________________________________________\n",
      "activation_10 (Activation)   (None, 128)               0         \n",
      "_________________________________________________________________\n",
      "dropout_7 (Dropout)          (None, 128)               0         \n",
      "_________________________________________________________________\n",
      "dense_11 (Dense)             (None, 128)               16512     \n",
      "_________________________________________________________________\n",
      "activation_11 (Activation)   (None, 128)               0         \n",
      "_________________________________________________________________\n",
      "dropout_8 (Dropout)          (None, 128)               0         \n",
      "_________________________________________________________________\n",
      "dense_12 (Dense)             (None, 3)                 387       \n",
      "_________________________________________________________________\n",
      "activation_12 (Activation)   (None, 3)                 0         \n",
      "=================================================================\n",
      "Total params: 17,539\n",
      "Trainable params: 17,539\n",
      "Non-trainable params: 0\n",
      "_________________________________________________________________\n"
     ]
    }
   ],
   "source": [
    "model=Sequential() \n",
    "model.add(Dense(128, input_dim=x_train.shape[1]))\n",
    "model.add(Activation('relu'))\n",
    "model.add(Dropout(0.15))\n",
    "\n",
    "\n",
    "model.add(Dense(128))\n",
    "model.add(Activation('relu'))\n",
    "model.add(Dropout(0.15))\n",
    "          \n",
    "\n",
    "model.add(Dense(y_train.shape[1]))\n",
    "model.add(Activation('softmax'))\n",
    "\n",
    "model.summary()"
   ]
  },
  {
   "cell_type": "code",
   "execution_count": 99,
   "metadata": {},
   "outputs": [
    {
     "name": "stdout",
     "output_type": "stream",
     "text": [
      "training...\n",
      "Train on 120 samples, validate on 30 samples\n",
      "Epoch 1/100\n",
      "120/120 [==============================] - 0s 2ms/step - loss: 1.0980 - accuracy: 0.4250 - val_loss: 0.8152 - val_accuracy: 0.4000\n",
      "Epoch 2/100\n",
      "120/120 [==============================] - 0s 286us/step - loss: 0.7710 - accuracy: 0.6333 - val_loss: 0.5461 - val_accuracy: 0.7667\n",
      "Epoch 3/100\n",
      "120/120 [==============================] - 0s 241us/step - loss: 0.5857 - accuracy: 0.7500 - val_loss: 0.4543 - val_accuracy: 0.9667\n",
      "Epoch 4/100\n",
      "120/120 [==============================] - 0s 233us/step - loss: 0.4783 - accuracy: 0.7833 - val_loss: 0.3930 - val_accuracy: 1.0000\n",
      "Epoch 5/100\n",
      "120/120 [==============================] - 0s 241us/step - loss: 0.4808 - accuracy: 0.7833 - val_loss: 0.3484 - val_accuracy: 1.0000\n",
      "Epoch 6/100\n",
      "120/120 [==============================] - 0s 233us/step - loss: 0.4006 - accuracy: 0.8333 - val_loss: 0.3125 - val_accuracy: 1.0000\n",
      "Epoch 7/100\n",
      "120/120 [==============================] - 0s 224us/step - loss: 0.3571 - accuracy: 0.8417 - val_loss: 0.2868 - val_accuracy: 0.9000\n",
      "Epoch 8/100\n",
      "120/120 [==============================] - 0s 266us/step - loss: 0.3779 - accuracy: 0.7917 - val_loss: 0.2996 - val_accuracy: 0.8667\n",
      "Epoch 9/100\n",
      "120/120 [==============================] - 0s 233us/step - loss: 0.3036 - accuracy: 0.8917 - val_loss: 0.2382 - val_accuracy: 0.9333\n",
      "Epoch 10/100\n",
      "120/120 [==============================] - 0s 258us/step - loss: 0.3104 - accuracy: 0.8667 - val_loss: 0.2272 - val_accuracy: 1.0000\n",
      "Epoch 11/100\n",
      "120/120 [==============================] - 0s 224us/step - loss: 0.2534 - accuracy: 0.9250 - val_loss: 0.2027 - val_accuracy: 1.0000\n",
      "Epoch 12/100\n",
      "120/120 [==============================] - 0s 249us/step - loss: 0.2414 - accuracy: 0.9000 - val_loss: 0.1977 - val_accuracy: 1.0000\n",
      "Epoch 13/100\n",
      "120/120 [==============================] - 0s 249us/step - loss: 0.2440 - accuracy: 0.9167 - val_loss: 0.1941 - val_accuracy: 0.9333\n",
      "Epoch 14/100\n",
      "120/120 [==============================] - 0s 266us/step - loss: 0.2215 - accuracy: 0.9333 - val_loss: 0.1799 - val_accuracy: 0.9333\n",
      "Epoch 15/100\n",
      "120/120 [==============================] - 0s 241us/step - loss: 0.2104 - accuracy: 0.9333 - val_loss: 0.1489 - val_accuracy: 1.0000\n",
      "Epoch 16/100\n",
      "120/120 [==============================] - 0s 233us/step - loss: 0.1986 - accuracy: 0.9333 - val_loss: 0.1401 - val_accuracy: 1.0000\n",
      "Epoch 17/100\n",
      "120/120 [==============================] - 0s 258us/step - loss: 0.1604 - accuracy: 0.9583 - val_loss: 0.1287 - val_accuracy: 1.0000\n",
      "Epoch 18/100\n",
      "120/120 [==============================] - 0s 274us/step - loss: 0.1884 - accuracy: 0.9333 - val_loss: 0.1240 - val_accuracy: 1.0000\n",
      "Epoch 19/100\n",
      "120/120 [==============================] - 0s 241us/step - loss: 0.1183 - accuracy: 0.9583 - val_loss: 0.1247 - val_accuracy: 1.0000\n",
      "Epoch 20/100\n",
      "120/120 [==============================] - 0s 233us/step - loss: 0.1341 - accuracy: 0.9833 - val_loss: 0.1108 - val_accuracy: 1.0000\n",
      "Epoch 21/100\n",
      "120/120 [==============================] - 0s 233us/step - loss: 0.1528 - accuracy: 0.9583 - val_loss: 0.1298 - val_accuracy: 0.9667\n",
      "Epoch 22/100\n",
      "120/120 [==============================] - 0s 266us/step - loss: 0.1842 - accuracy: 0.9417 - val_loss: 0.1354 - val_accuracy: 0.9000\n",
      "Epoch 23/100\n",
      "120/120 [==============================] - 0s 241us/step - loss: 0.1651 - accuracy: 0.9250 - val_loss: 0.0960 - val_accuracy: 1.0000\n",
      "Epoch 24/100\n",
      "120/120 [==============================] - 0s 258us/step - loss: 0.1768 - accuracy: 0.9250 - val_loss: 0.1461 - val_accuracy: 0.8667\n",
      "Epoch 25/100\n",
      "120/120 [==============================] - 0s 241us/step - loss: 0.1331 - accuracy: 0.9583 - val_loss: 0.0950 - val_accuracy: 0.9667\n",
      "Epoch 26/100\n",
      "120/120 [==============================] - 0s 233us/step - loss: 0.1452 - accuracy: 0.9500 - val_loss: 0.0937 - val_accuracy: 1.0000\n",
      "Epoch 27/100\n",
      "120/120 [==============================] - 0s 241us/step - loss: 0.1427 - accuracy: 0.9500 - val_loss: 0.0894 - val_accuracy: 1.0000\n",
      "Epoch 28/100\n",
      "120/120 [==============================] - 0s 241us/step - loss: 0.1442 - accuracy: 0.9667 - val_loss: 0.0975 - val_accuracy: 1.0000\n",
      "Epoch 29/100\n",
      "120/120 [==============================] - 0s 249us/step - loss: 0.1196 - accuracy: 0.9833 - val_loss: 0.0831 - val_accuracy: 1.0000\n",
      "Epoch 30/100\n",
      "120/120 [==============================] - 0s 241us/step - loss: 0.1080 - accuracy: 0.9667 - val_loss: 0.1073 - val_accuracy: 1.0000\n",
      "Epoch 31/100\n",
      "120/120 [==============================] - 0s 241us/step - loss: 0.1390 - accuracy: 0.9417 - val_loss: 0.0972 - val_accuracy: 1.0000\n",
      "Epoch 32/100\n",
      "120/120 [==============================] - 0s 249us/step - loss: 0.0895 - accuracy: 0.9667 - val_loss: 0.0794 - val_accuracy: 0.9667\n",
      "Epoch 33/100\n",
      "120/120 [==============================] - 0s 233us/step - loss: 0.1368 - accuracy: 0.9417 - val_loss: 0.0884 - val_accuracy: 1.0000\n",
      "Epoch 34/100\n",
      "120/120 [==============================] - 0s 266us/step - loss: 0.1110 - accuracy: 0.9417 - val_loss: 0.0865 - val_accuracy: 1.0000\n",
      "Epoch 35/100\n",
      "120/120 [==============================] - 0s 249us/step - loss: 0.1181 - accuracy: 0.9500 - val_loss: 0.0760 - val_accuracy: 1.0000\n",
      "Epoch 36/100\n",
      "120/120 [==============================] - 0s 224us/step - loss: 0.1040 - accuracy: 0.9667 - val_loss: 0.0952 - val_accuracy: 1.0000\n",
      "Epoch 37/100\n",
      "120/120 [==============================] - 0s 266us/step - loss: 0.1441 - accuracy: 0.9583 - val_loss: 0.0972 - val_accuracy: 1.0000\n",
      "Epoch 38/100\n",
      "120/120 [==============================] - 0s 249us/step - loss: 0.0999 - accuracy: 0.9667 - val_loss: 0.0716 - val_accuracy: 1.0000\n",
      "Epoch 39/100\n",
      "120/120 [==============================] - 0s 258us/step - loss: 0.0723 - accuracy: 0.9750 - val_loss: 0.0803 - val_accuracy: 1.0000\n",
      "Epoch 40/100\n",
      "120/120 [==============================] - 0s 241us/step - loss: 0.1038 - accuracy: 0.9667 - val_loss: 0.0898 - val_accuracy: 1.0000\n",
      "Epoch 41/100\n",
      "120/120 [==============================] - 0s 258us/step - loss: 0.1056 - accuracy: 0.9583 - val_loss: 0.0692 - val_accuracy: 0.9667\n",
      "Epoch 42/100\n",
      "120/120 [==============================] - 0s 249us/step - loss: 0.0944 - accuracy: 0.9583 - val_loss: 0.0864 - val_accuracy: 1.0000\n",
      "Epoch 43/100\n",
      "120/120 [==============================] - 0s 266us/step - loss: 0.1097 - accuracy: 0.9750 - val_loss: 0.0673 - val_accuracy: 1.0000\n",
      "Epoch 44/100\n",
      "120/120 [==============================] - 0s 258us/step - loss: 0.0893 - accuracy: 0.9583 - val_loss: 0.0806 - val_accuracy: 1.0000\n",
      "Epoch 45/100\n",
      "120/120 [==============================] - 0s 258us/step - loss: 0.0817 - accuracy: 0.9750 - val_loss: 0.0750 - val_accuracy: 1.0000\n",
      "Epoch 46/100\n",
      "120/120 [==============================] - 0s 249us/step - loss: 0.1062 - accuracy: 0.9667 - val_loss: 0.0961 - val_accuracy: 0.9667\n",
      "Epoch 47/100\n",
      "120/120 [==============================] - 0s 258us/step - loss: 0.0814 - accuracy: 0.9750 - val_loss: 0.0630 - val_accuracy: 0.9667\n",
      "Epoch 48/100\n",
      "120/120 [==============================] - 0s 266us/step - loss: 0.0989 - accuracy: 0.9500 - val_loss: 0.1004 - val_accuracy: 0.9667\n",
      "Epoch 49/100\n",
      "120/120 [==============================] - 0s 258us/step - loss: 0.0991 - accuracy: 0.9583 - val_loss: 0.0668 - val_accuracy: 1.0000\n",
      "Epoch 50/100\n",
      "120/120 [==============================] - 0s 258us/step - loss: 0.0996 - accuracy: 0.9667 - val_loss: 0.0677 - val_accuracy: 0.9667\n",
      "Epoch 51/100\n",
      "120/120 [==============================] - 0s 274us/step - loss: 0.0948 - accuracy: 0.9750 - val_loss: 0.1120 - val_accuracy: 0.9000\n",
      "Epoch 52/100\n",
      "120/120 [==============================] - 0s 249us/step - loss: 0.1105 - accuracy: 0.9667 - val_loss: 0.0588 - val_accuracy: 1.0000\n",
      "Epoch 53/100\n",
      "120/120 [==============================] - 0s 266us/step - loss: 0.1249 - accuracy: 0.9500 - val_loss: 0.0566 - val_accuracy: 1.0000\n",
      "Epoch 54/100\n",
      "120/120 [==============================] - 0s 249us/step - loss: 0.1210 - accuracy: 0.9667 - val_loss: 0.0582 - val_accuracy: 1.0000\n",
      "Epoch 55/100\n",
      "120/120 [==============================] - 0s 308us/step - loss: 0.1119 - accuracy: 0.9500 - val_loss: 0.1011 - val_accuracy: 0.9667\n",
      "Epoch 56/100\n",
      "120/120 [==============================] - 0s 258us/step - loss: 0.1274 - accuracy: 0.9583 - val_loss: 0.0535 - val_accuracy: 1.0000\n"
     ]
    },
    {
     "name": "stdout",
     "output_type": "stream",
     "text": [
      "Epoch 57/100\n",
      "120/120 [==============================] - 0s 258us/step - loss: 0.0842 - accuracy: 0.9583 - val_loss: 0.0642 - val_accuracy: 1.0000\n",
      "Epoch 58/100\n",
      "120/120 [==============================] - 0s 249us/step - loss: 0.0819 - accuracy: 0.9667 - val_loss: 0.0737 - val_accuracy: 1.0000\n",
      "Epoch 59/100\n",
      "120/120 [==============================] - 0s 241us/step - loss: 0.0869 - accuracy: 0.9750 - val_loss: 0.1163 - val_accuracy: 0.9000\n",
      "Epoch 60/100\n",
      "120/120 [==============================] - 0s 224us/step - loss: 0.0958 - accuracy: 0.9667 - val_loss: 0.0753 - val_accuracy: 0.9667\n",
      "Epoch 61/100\n",
      "120/120 [==============================] - 0s 233us/step - loss: 0.1427 - accuracy: 0.9583 - val_loss: 0.1197 - val_accuracy: 0.9000\n",
      "Epoch 62/100\n",
      "120/120 [==============================] - 0s 249us/step - loss: 0.0812 - accuracy: 0.9833 - val_loss: 0.0516 - val_accuracy: 1.0000\n",
      "Epoch 63/100\n",
      "120/120 [==============================] - 0s 249us/step - loss: 0.0791 - accuracy: 0.9833 - val_loss: 0.0546 - val_accuracy: 1.0000\n",
      "Epoch 64/100\n",
      "120/120 [==============================] - 0s 233us/step - loss: 0.0979 - accuracy: 0.9667 - val_loss: 0.0559 - val_accuracy: 1.0000\n",
      "Epoch 65/100\n",
      "120/120 [==============================] - 0s 233us/step - loss: 0.0789 - accuracy: 0.9833 - val_loss: 0.0609 - val_accuracy: 1.0000\n",
      "Epoch 66/100\n",
      "120/120 [==============================] - 0s 233us/step - loss: 0.0926 - accuracy: 0.9667 - val_loss: 0.0517 - val_accuracy: 1.0000\n",
      "Epoch 67/100\n",
      "120/120 [==============================] - 0s 241us/step - loss: 0.0709 - accuracy: 0.9750 - val_loss: 0.0578 - val_accuracy: 1.0000\n",
      "Epoch 68/100\n",
      "120/120 [==============================] - 0s 241us/step - loss: 0.1066 - accuracy: 0.9583 - val_loss: 0.0484 - val_accuracy: 1.0000\n",
      "Epoch 69/100\n",
      "120/120 [==============================] - 0s 241us/step - loss: 0.1043 - accuracy: 0.9750 - val_loss: 0.0573 - val_accuracy: 1.0000\n",
      "Epoch 70/100\n",
      "120/120 [==============================] - 0s 241us/step - loss: 0.0765 - accuracy: 0.9500 - val_loss: 0.0610 - val_accuracy: 1.0000\n",
      "Epoch 71/100\n",
      "120/120 [==============================] - 0s 241us/step - loss: 0.0632 - accuracy: 0.9750 - val_loss: 0.0496 - val_accuracy: 0.9667\n",
      "Epoch 72/100\n",
      "120/120 [==============================] - 0s 224us/step - loss: 0.0590 - accuracy: 0.9750 - val_loss: 0.0522 - val_accuracy: 1.0000\n",
      "Epoch 73/100\n",
      "120/120 [==============================] - 0s 241us/step - loss: 0.1074 - accuracy: 0.9500 - val_loss: 0.0561 - val_accuracy: 1.0000\n",
      "Epoch 74/100\n",
      "120/120 [==============================] - 0s 241us/step - loss: 0.0796 - accuracy: 0.9667 - val_loss: 0.0716 - val_accuracy: 1.0000\n",
      "Epoch 75/100\n",
      "120/120 [==============================] - 0s 241us/step - loss: 0.0932 - accuracy: 0.9667 - val_loss: 0.0541 - val_accuracy: 1.0000\n",
      "Epoch 76/100\n",
      "120/120 [==============================] - 0s 249us/step - loss: 0.0842 - accuracy: 0.9750 - val_loss: 0.0503 - val_accuracy: 1.0000\n",
      "Epoch 77/100\n",
      "120/120 [==============================] - 0s 249us/step - loss: 0.0799 - accuracy: 0.9667 - val_loss: 0.0588 - val_accuracy: 1.0000\n",
      "Epoch 78/100\n",
      "120/120 [==============================] - 0s 249us/step - loss: 0.0788 - accuracy: 0.9833 - val_loss: 0.0483 - val_accuracy: 1.0000\n",
      "Epoch 79/100\n",
      "120/120 [==============================] - 0s 249us/step - loss: 0.0942 - accuracy: 0.9583 - val_loss: 0.0664 - val_accuracy: 1.0000\n",
      "Epoch 80/100\n",
      "120/120 [==============================] - 0s 241us/step - loss: 0.0872 - accuracy: 0.9333 - val_loss: 0.0508 - val_accuracy: 1.0000\n",
      "Epoch 81/100\n",
      "120/120 [==============================] - 0s 241us/step - loss: 0.1129 - accuracy: 0.9583 - val_loss: 0.0586 - val_accuracy: 1.0000\n",
      "Epoch 82/100\n",
      "120/120 [==============================] - 0s 258us/step - loss: 0.0807 - accuracy: 0.9667 - val_loss: 0.0490 - val_accuracy: 1.0000\n",
      "Epoch 83/100\n",
      "120/120 [==============================] - 0s 241us/step - loss: 0.0867 - accuracy: 0.9667 - val_loss: 0.0612 - val_accuracy: 1.0000\n",
      "Epoch 84/100\n",
      "120/120 [==============================] - 0s 258us/step - loss: 0.0687 - accuracy: 0.9750 - val_loss: 0.0415 - val_accuracy: 1.0000\n",
      "Epoch 85/100\n",
      "120/120 [==============================] - 0s 266us/step - loss: 0.0750 - accuracy: 0.9750 - val_loss: 0.0551 - val_accuracy: 1.0000\n",
      "Epoch 86/100\n",
      "120/120 [==============================] - 0s 241us/step - loss: 0.0817 - accuracy: 0.9833 - val_loss: 0.0499 - val_accuracy: 1.0000\n",
      "Epoch 87/100\n",
      "120/120 [==============================] - 0s 233us/step - loss: 0.0786 - accuracy: 0.9750 - val_loss: 0.0453 - val_accuracy: 1.0000\n",
      "Epoch 88/100\n",
      "120/120 [==============================] - 0s 224us/step - loss: 0.0723 - accuracy: 0.9667 - val_loss: 0.0631 - val_accuracy: 1.0000\n",
      "Epoch 89/100\n",
      "120/120 [==============================] - 0s 258us/step - loss: 0.1181 - accuracy: 0.9333 - val_loss: 0.0484 - val_accuracy: 1.0000\n",
      "Epoch 90/100\n",
      "120/120 [==============================] - 0s 258us/step - loss: 0.0947 - accuracy: 0.9500 - val_loss: 0.0481 - val_accuracy: 1.0000\n",
      "Epoch 91/100\n",
      "120/120 [==============================] - 0s 233us/step - loss: 0.0675 - accuracy: 0.9750 - val_loss: 0.0491 - val_accuracy: 1.0000\n",
      "Epoch 92/100\n",
      "120/120 [==============================] - 0s 233us/step - loss: 0.0852 - accuracy: 0.9667 - val_loss: 0.0614 - val_accuracy: 1.0000\n",
      "Epoch 93/100\n",
      "120/120 [==============================] - 0s 249us/step - loss: 0.0823 - accuracy: 0.9667 - val_loss: 0.0416 - val_accuracy: 1.0000\n",
      "Epoch 94/100\n",
      "120/120 [==============================] - 0s 249us/step - loss: 0.0649 - accuracy: 0.9833 - val_loss: 0.0419 - val_accuracy: 1.0000\n",
      "Epoch 95/100\n",
      "120/120 [==============================] - 0s 241us/step - loss: 0.0600 - accuracy: 0.9833 - val_loss: 0.0602 - val_accuracy: 1.0000\n",
      "Epoch 96/100\n",
      "120/120 [==============================] - 0s 249us/step - loss: 0.0780 - accuracy: 0.9583 - val_loss: 0.0379 - val_accuracy: 1.0000\n",
      "Epoch 97/100\n",
      "120/120 [==============================] - 0s 249us/step - loss: 0.0525 - accuracy: 0.9917 - val_loss: 0.0965 - val_accuracy: 0.9000\n",
      "Epoch 98/100\n",
      "120/120 [==============================] - 0s 258us/step - loss: 0.0973 - accuracy: 0.9667 - val_loss: 0.0469 - val_accuracy: 0.9667\n",
      "Epoch 99/100\n",
      "120/120 [==============================] - 0s 224us/step - loss: 0.0694 - accuracy: 0.9750 - val_loss: 0.0987 - val_accuracy: 0.9000\n",
      "Epoch 100/100\n",
      "120/120 [==============================] - 0s 249us/step - loss: 0.0754 - accuracy: 0.9667 - val_loss: 0.0434 - val_accuracy: 1.0000\n"
     ]
    }
   ],
   "source": [
    "model.compile(loss='categorical_crossentropy',optimizer='adam',metrics=['accuracy'])\n",
    "callbacks = [EarlyStopping(patience=2,monitor='val_loss',mode='auto')]\n",
    "print('training...')\n",
    "hist=model.fit(x_train,y_train,batch_size=10,epochs=100,validation_data=(x_test,y_test))"
   ]
  },
  {
   "cell_type": "code",
   "execution_count": 100,
   "metadata": {},
   "outputs": [
    {
     "data": {
      "image/png": "[encoded data removed]",
      "text/plain": [
       "<Figure size 864x432 with 1 Axes>"
      ]
     },
     "metadata": {
      "needs_background": "light"
     },
     "output_type": "display_data"
    }
   ],
   "source": [
    "from matplotlib import pyplot as plt\n",
    "%matplotlib inline\n",
    "plt.figure(figsize=(12,6))\n",
    "plt.title(\"Loss vs Iterations\")\n",
    "plt.plot(np.arange(100),hist.history['val_loss'],color='green')\n",
    "plt.show()"
   ]
  },
  {
   "cell_type": "code",
   "execution_count": 101,
   "metadata": {},
   "outputs": [
    {
     "name": "stdout",
     "output_type": "stream",
     "text": [
      "generating predictions...\n",
      "predictions: [1 0 2 1 1 0 1 2 1 1 2 0 0 0 0 1 2 1 1 2 0 2 0 2 2 2 2 2 0 0]\n"
     ]
    }
   ],
   "source": [
    "print('generating predictions...')\n",
    "preds=model.predict_classes(x_test)\n",
    "print(\"predictions:\",preds)"
   ]
  },
  {
   "cell_type": "code",
   "execution_count": 106,
   "metadata": {},
   "outputs": [
    {
     "data": {
      "text/plain": [
       "array([[5.89309020e-05, 9.81983781e-01, 1.79574061e-02],\n",
       "       [9.99976873e-01, 2.31798058e-05, 2.83517174e-15],\n",
       "       [5.16821091e-12, 1.63694771e-04, 9.99836326e-01],\n",
       "       [7.96293534e-05, 9.62194920e-01, 3.77254784e-02],\n",
       "       [2.89856944e-05, 9.93836820e-01, 6.13411330e-03],\n",
       "       [9.99942183e-01, 5.78663567e-05, 3.80781324e-14],\n",
       "       [2.60984572e-03, 9.97264981e-01, 1.25135863e-04],\n",
       "       [2.09634393e-07, 4.43794802e-02, 9.55620289e-01],\n",
       "       [1.06670495e-05, 5.57738900e-01, 4.42250431e-01],\n",
       "       [6.69062429e-04, 9.98884857e-01, 4.46004589e-04],\n",
       "       [1.52873031e-06, 1.55247465e-01, 8.44751000e-01],\n",
       "       [9.99893904e-01, 1.06046231e-04, 2.71690765e-13],\n",
       "       [9.99987245e-01, 1.27907797e-05, 1.17250239e-15],\n",
       "       [9.99895334e-01, 1.04675855e-04, 2.11622346e-13],\n",
       "       [9.99978900e-01, 2.11231163e-05, 7.37150074e-15],\n",
       "       [9.57230004e-05, 9.92510557e-01, 7.39367027e-03],\n",
       "       [1.24112598e-09, 1.21130189e-03, 9.98788774e-01],\n",
       "       [4.93897067e-04, 9.98252094e-01, 1.25400885e-03],\n",
       "       [9.18666192e-05, 9.47681546e-01, 5.22266366e-02],\n",
       "       [1.69829983e-09, 1.26611092e-03, 9.98733938e-01],\n",
       "       [9.99833584e-01, 1.66387457e-04, 9.22170543e-13],\n",
       "       [3.13657438e-06, 1.81449249e-01, 8.18547547e-01],\n",
       "       [9.99881983e-01, 1.18053089e-04, 3.38346403e-13],\n",
       "       [2.38179942e-09, 1.62756222e-03, 9.98372495e-01],\n",
       "       [8.42051477e-08, 1.45751297e-01, 8.54248643e-01],\n",
       "       [2.20482619e-08, 6.64821919e-03, 9.93351758e-01],\n",
       "       [1.59260283e-09, 2.08036555e-03, 9.97919619e-01],\n",
       "       [1.02234943e-09, 1.25441281e-03, 9.98745561e-01],\n",
       "       [9.99832988e-01, 1.66993341e-04, 9.13818175e-13],\n",
       "       [9.99794781e-01, 2.05231423e-04, 1.11918916e-12]], dtype=float32)"
      ]
     },
     "execution_count": 106,
     "metadata": {},
     "output_type": "execute_result"
    }
   ],
   "source": [
    "model.predict(x_test)\n"
   ]
  },
  {
   "cell_type": "code",
   "execution_count": 108,
   "metadata": {},
   "outputs": [
    {
     "data": {
      "text/plain": [
       "[array(['Iris-setosa', 'Iris-versicolor', 'Iris-virginica'], dtype=object)]"
      ]
     },
     "execution_count": 108,
     "metadata": {},
     "output_type": "execute_result"
    }
   ],
   "source": [
    "one.categories_"
   ]
  },
  {
   "cell_type": "code",
   "execution_count": null,
   "metadata": {},
   "outputs": [],
   "source": []
  }
 ],
 "metadata": {
  "kernelspec": {
   "display_name": "Python 3",
   "language": "python",
   "name": "python3"
  },
  "language_info": {
   "codemirror_mode": {
    "name": "ipython",
    "version": 3
   },
   "file_extension": ".py",
   "mimetype": "text/x-python",
   "name": "python",
   "nbconvert_exporter": "python",
   "pygments_lexer": "ipython3",
   "version": "3.7.3"
  }
 },
 "nbformat": 4,
 "nbformat_minor": 2
}
